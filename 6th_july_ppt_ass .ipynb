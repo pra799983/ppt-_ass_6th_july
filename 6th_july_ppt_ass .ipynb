{
 "cells": [
  {
   "cell_type": "markdown",
   "id": "f5190f2e-143c-4fed-9c32-9999f7854b1e",
   "metadata": {},
   "source": [
    "## 1. Write a Python program to reverse a string without using any built-in string reversal functions."
   ]
  },
  {
   "cell_type": "code",
   "execution_count": 7,
   "id": "ab8238f1-de17-4788-9763-9ca47e2d25c7",
   "metadata": {},
   "outputs": [
    {
     "name": "stdout",
     "output_type": "stream",
     "text": [
      "reverse string is :  rupgarahk tii ta esruoc sretsam a gniusrup ma i dna tupjar hgnis peedarp si eman ym\n"
     ]
    }
   ],
   "source": [
    "str = \"my name is pradeep singh rajput and i am pursuing a masters course at iit kharagpur\"\n",
    "print(\"reverse string is : \",str[::-1])"
   ]
  },
  {
   "cell_type": "markdown",
   "id": "1f961199-b967-44cf-b9b7-883569f7ab0f",
   "metadata": {},
   "source": [
    "## 2. Implement a function to check if a given string is a palindrome."
   ]
  },
  {
   "cell_type": "code",
   "execution_count": 6,
   "id": "010886a9-4c8c-4271-a0a1-d13d2b57a8e1",
   "metadata": {},
   "outputs": [
    {
     "name": "stdout",
     "output_type": "stream",
     "text": [
      "Given string is a palindrome : False\n"
     ]
    }
   ],
   "source": [
    "def is_palindrome(string):\n",
    "    left = 0\n",
    "    right = len(string)-1\n",
    "    while left<right:\n",
    "        if string[left]!=string[right]:\n",
    "            return False\n",
    "        else:\n",
    "            string[left]==string[right]\n",
    "            left +=1\n",
    "            right-=1\n",
    "                \n",
    "    return True            \n",
    "string = 'pradeep'\n",
    "result = is_palindrome(string)\n",
    "print(\"Given string is a palindrome :\" , result)"
   ]
  },
  {
   "cell_type": "markdown",
   "id": "fa7df5f9-3145-4e54-b708-c7f9dd3ba587",
   "metadata": {},
   "source": [
    "## 3. Write a program to find the largest element in a given list."
   ]
  },
  {
   "cell_type": "code",
   "execution_count": 1,
   "id": "f4c0bd81-1d1a-4d96-acc9-f320df6d678b",
   "metadata": {},
   "outputs": [
    {
     "name": "stdout",
     "output_type": "stream",
     "text": [
      "largest elemnets in above list is : 98\n"
     ]
    }
   ],
   "source": [
    "mylist = [12,4,45,98,45]\n",
    "largest_element = max(mylist)\n",
    "print(\"largest elemnets in above list is :\" , largest_element)"
   ]
  },
  {
   "cell_type": "markdown",
   "id": "b19af433-f198-4dd1-b5d9-53329ce536d8",
   "metadata": {},
   "source": [
    "## 4. Implement a function to count the occurrence of each element in a list."
   ]
  },
  {
   "cell_type": "code",
   "execution_count": 18,
   "id": "95439f45-20ff-495e-8934-e84f22526f73",
   "metadata": {},
   "outputs": [
    {
     "name": "stdout",
     "output_type": "stream",
     "text": [
      "ele_cnt\n",
      "2    2\n",
      "3    2\n",
      "4    1\n",
      "5    1\n",
      "6    1\n",
      "dtype: int64\n"
     ]
    }
   ],
   "source": [
    "import pandas as pd\n",
    "\n",
    "mylist = [2,3,2,3,4,5,6]\n",
    "count = pd.Series(mylist).value_counts()\n",
    "print(\"ele_cnt\")\n",
    "print(count)"
   ]
  },
  {
   "cell_type": "markdown",
   "id": "80b0c982-ceb3-40c2-8d32-7c975d9a4c65",
   "metadata": {},
   "source": [
    "## 5. Write a Python program to find the second largest number in a list."
   ]
  },
  {
   "cell_type": "code",
   "execution_count": 20,
   "id": "cf9354f6-3091-470c-89eb-7950780ad4bf",
   "metadata": {},
   "outputs": [
    {
     "ename": "TypeError",
     "evalue": "'int' object is not iterable",
     "output_type": "error",
     "traceback": [
      "\u001b[0;31m---------------------------------------------------------------------------\u001b[0m",
      "\u001b[0;31mTypeError\u001b[0m                                 Traceback (most recent call last)",
      "Cell \u001b[0;32mIn[20], line 2\u001b[0m\n\u001b[1;32m      1\u001b[0m \u001b[38;5;28mlist\u001b[39m \u001b[38;5;241m=\u001b[39m [\u001b[38;5;241m12\u001b[39m,\u001b[38;5;241m4\u001b[39m,\u001b[38;5;241m45\u001b[39m,\u001b[38;5;241m98\u001b[39m,\u001b[38;5;241m45\u001b[39m]\n\u001b[0;32m----> 2\u001b[0m \u001b[38;5;28mprint\u001b[39m(\u001b[38;5;28;43mmax\u001b[39;49m\u001b[43m(\u001b[49m\u001b[38;5;28;43mlist\u001b[39;49m\u001b[43m[\u001b[49m\u001b[38;5;241;43m1\u001b[39;49m\u001b[43m]\u001b[49m\u001b[43m)\u001b[49m)\n",
      "\u001b[0;31mTypeError\u001b[0m: 'int' object is not iterable"
     ]
    }
   ],
   "source": [
    "\n",
    "def second_largest(numbers):\n",
    "    largest = float('-inf')\n",
    "    second_largest = float('-inf')\n",
    "    for num in numbers:\n",
    "        if num>largest:\n",
    "            second_largest = largest\n",
    "            largest = num\n",
    "            \n",
    "        else:\n",
    "            \n",
    "            \n",
    "\n",
    "\n",
    "      \n",
    "numbers   = [12,4,45,98,45]\n",
    "result = second_largest(numbers)\n",
    "print(\"second largest number present in l\", result)\n",
    "      \n",
    "      \n",
    "Initialize two variables, largest and second_largest, to store the largest and second-largest numbers, respectively.\n",
    "Iterate through each element in the list.\n",
    "If the current element is greater than largest, update second_largest to largest and largest to the current element.\n",
    "If the current element is greater than second_largest but not greater than largest, update second_largest to the current element.\n",
    "After iterating through all elements, the value of second_largest will be the second largest number in the list.\n",
    "      \n",
    "      \n"
   ]
  },
  {
   "cell_type": "code",
   "execution_count": 21,
   "id": "2e4f37ef-1081-4fa7-a139-11ce4515fba9",
   "metadata": {},
   "outputs": [
    {
     "name": "stdout",
     "output_type": "stream",
     "text": [
      "-inf\n"
     ]
    }
   ],
   "source": [
    "smallest_value = float('-inf')\n",
    "print(smallest_value)  # Output: -inf\n"
   ]
  },
  {
   "cell_type": "markdown",
   "id": "27614db1-81fa-4f65-ae6b-e232dd7021a2",
   "metadata": {},
   "source": [
    "## 6. Implement a function to remove duplicate elements from a list."
   ]
  },
  {
   "cell_type": "code",
   "execution_count": 28,
   "id": "66d2ac41-b369-4317-9bee-4ab84e35492d",
   "metadata": {},
   "outputs": [
    {
     "name": "stdout",
     "output_type": "stream",
     "text": [
      "unique numbers are in the input list: [2, 3, 4, 5, 6]\n"
     ]
    }
   ],
   "source": [
    "def remove_duplicate(input_list):\n",
    "    unique_item = []\n",
    "    for num in input_list:\n",
    "        if num not in unique_item:\n",
    "            unique_item.append(num)\n",
    "            \n",
    "    return  unique_item   \n",
    "\n",
    "input_list = [2,3,2,3,4,5,6]\n",
    "result = remove_duplicate(input_list)\n",
    "print(\"unique numbers are in the input list:\", result)"
   ]
  },
  {
   "cell_type": "code",
   "execution_count": 31,
   "id": "7516f822-1e69-4839-b833-96b03a4c463b",
   "metadata": {},
   "outputs": [
    {
     "data": {
      "text/plain": [
       "[2, 3, 4, 5, 6]"
      ]
     },
     "execution_count": 31,
     "metadata": {},
     "output_type": "execute_result"
    }
   ],
   "source": [
    "mylist = [2,3,2,3,4,5,6]\n",
    "list(set(mylist))"
   ]
  },
  {
   "cell_type": "markdown",
   "id": "94ca2219-a44f-4629-badf-044e2339ae66",
   "metadata": {},
   "source": [
    "## 7. Write a program to calculate the factorial of a given number."
   ]
  },
  {
   "cell_type": "code",
   "execution_count": 22,
   "id": "8388e42d-dac8-4b68-9408-3b52eff948b4",
   "metadata": {},
   "outputs": [
    {
     "name": "stdout",
     "output_type": "stream",
     "text": [
      "factorial of given number is : 1\n"
     ]
    }
   ],
   "source": [
    "def findfactorial(num):\n",
    "    if (num==0 or num ==1):\n",
    "        return 1\n",
    "    \n",
    "    return num*findfactorial(num-1)   ### n! = n*(n-1)! \n",
    "\n",
    "num = 1\n",
    "result =  findfactorial(num)\n",
    "print(\"factorial of given number is :\", result)\n"
   ]
  },
  {
   "cell_type": "markdown",
   "id": "68733858-a789-4c08-8e85-2622a42c743b",
   "metadata": {},
   "source": [
    "## 8. Implement a function to check if a given number is prime."
   ]
  },
  {
   "cell_type": "code",
   "execution_count": 27,
   "id": "734c2cae-9b9b-4e5f-8658-5f69960d44da",
   "metadata": {},
   "outputs": [
    {
     "name": "stdout",
     "output_type": "stream",
     "text": [
      "Given number is a prime number: False\n"
     ]
    }
   ],
   "source": [
    "\n",
    "def isprimenumber(n):\n",
    "    if n <2:\n",
    "        return False\n",
    "       \n",
    "    for i in range(2,n):\n",
    "        if n%i==0:\n",
    "            return False\n",
    "          \n",
    "    return True        \n",
    "\n",
    "n = 15\n",
    "result = isprimenumber(n)\n",
    "print(\"Given number is a prime number:\", result )"
   ]
  },
  {
   "cell_type": "markdown",
   "id": "8e2b5bdd-9556-4c14-a85b-6b3775454008",
   "metadata": {},
   "source": [
    "## 9. Write a Python program to sort a list of integers in ascending order."
   ]
  },
  {
   "cell_type": "code",
   "execution_count": 20,
   "id": "ba22aba0-fe0b-4d87-b47d-1c7973f01a90",
   "metadata": {},
   "outputs": [
    {
     "name": "stdout",
     "output_type": "stream",
     "text": [
      "Sorted in ascending order above list is : [12, 13, 45, 56, 78, 89]\n"
     ]
    }
   ],
   "source": [
    "\n",
    "lst = [12,89,45,13,56,78]\n",
    "results  = sorted(lst)\n",
    "print(\"Sorted in ascending order above list is :\", results)"
   ]
  },
  {
   "cell_type": "markdown",
   "id": "023e34a2-788c-49b0-b42f-122e73207eeb",
   "metadata": {},
   "source": [
    "## 10. Implement a function to find the sum of all numbers in a list."
   ]
  },
  {
   "cell_type": "code",
   "execution_count": 18,
   "id": "1ac003c5-5013-4db9-ae40-7a76ffa9c27c",
   "metadata": {},
   "outputs": [
    {
     "name": "stdout",
     "output_type": "stream",
     "text": [
      "Sum of the all elements present in the list is :  293\n"
     ]
    }
   ],
   "source": [
    "\n",
    "lst = [12,89,45,13,56,78]\n",
    "results  = sum(lst)\n",
    "print(\"Sum of the all elements present in the list is : \", results)\n"
   ]
  },
  {
   "cell_type": "code",
   "execution_count": null,
   "id": "9570b0d1-5daa-4014-8aed-8476b283765f",
   "metadata": {},
   "outputs": [],
   "source": [
    "# 11. Write a program to find the common elements between two lists."
   ]
  },
  {
   "cell_type": "code",
   "execution_count": 31,
   "id": "69b17e0a-76c2-4a87-ae65-6765f48182ca",
   "metadata": {},
   "outputs": [
    {
     "name": "stdout",
     "output_type": "stream",
     "text": [
      "Commmon elements between list1 and list2 are :\n",
      "89\n",
      "78\n"
     ]
    }
   ],
   "source": [
    "\n",
    "print(\"Commmon elements between list1 and list2 are :\") \n",
    "list1 = [12,89,45,13,56,78]\n",
    "list2 =  [2,89,54,65,78,55]\n",
    "lst = []\n",
    "for i in list1 :\n",
    "    if i  in list2:\n",
    "        lst.append(i)\n",
    "        print(i)    "
   ]
  },
  {
   "cell_type": "code",
   "execution_count": 34,
   "id": "7fb4d547-ef77-443f-bd3f-ea3dd26cf883",
   "metadata": {},
   "outputs": [
    {
     "name": "stdout",
     "output_type": "stream",
     "text": [
      "Commmon elements between list1 and list2 are : [89, 78]\n"
     ]
    }
   ],
   "source": [
    "## Method 2 - using def function\n",
    "def find_commen_element(list1,list2):\n",
    "    commonelementslist = []\n",
    "    for i in list1:\n",
    "        if i in list2:\n",
    "            commonelementslist.append(i)\n",
    "    return commonelementslist\n",
    "\n",
    "list1 = [12,89,45,13,56,78]\n",
    "list2 =  [2,89,54,65,78,55]\n",
    "results = find_commen_element(list1,list2)\n",
    "print(\"Commmon elements between list1 and list2 are :\",results) "
   ]
  },
  {
   "cell_type": "markdown",
   "id": "afe2a00c-eb2f-4e67-8719-cfd313ad9c8f",
   "metadata": {},
   "source": [
    "## 12. Implement a function to check if a given string is an anagram of another string.\n"
   ]
  },
  {
   "cell_type": "code",
   "execution_count": 31,
   "id": "f34705e7-6836-4de4-9464-c872d6fe210e",
   "metadata": {},
   "outputs": [
    {
     "name": "stdout",
     "output_type": "stream",
     "text": [
      "Yes they are an anagram\n"
     ]
    }
   ],
   "source": [
    "\n",
    "\n",
    "def is_anagram(string1,string2):\n",
    "    sorted_str1 = sorted(string1)\n",
    "    sorted_str2 = sorted(string2)\n",
    "    if len(sorted_str1)==len(sorted_str2):\n",
    "         print(\"Yes they are an anagram\")\n",
    "\n",
    "\n",
    "\n",
    "\n",
    "string1 = \"pradeep singh\".replace(\" \",\"\").lower()\n",
    "string2 = 'singh pradeep'.replace(\" \",\"\").lower()\n",
    "result = is_anagram(string1,string2)\n",
    "    "
   ]
  },
  {
   "cell_type": "markdown",
   "id": "5c7bc17d-6f63-4737-99d8-4fab1228d622",
   "metadata": {},
   "source": [
    "## 13. Write a Python program to generate all permutations of a given string.\n"
   ]
  },
  {
   "cell_type": "code",
   "execution_count": null,
   "id": "dbd463f7-9073-407c-8b02-3732428de2d7",
   "metadata": {},
   "outputs": [],
   "source": [
    "\n",
    "\n",
    "\n",
    "\n",
    "\n"
   ]
  },
  {
   "cell_type": "markdown",
   "id": "a2fbeb9d-03c2-432c-9cbc-262f2aa3395b",
   "metadata": {},
   "source": [
    "## 14. Implement a function to calculate the Fibonacci sequence up to a given number of terms.\n"
   ]
  },
  {
   "cell_type": "code",
   "execution_count": 17,
   "id": "bcf6dcdc-2741-4d49-93d2-72da32313378",
   "metadata": {},
   "outputs": [
    {
     "data": {
      "text/plain": [
       "55"
      ]
     },
     "execution_count": 17,
     "metadata": {},
     "output_type": "execute_result"
    }
   ],
   "source": [
    "def cal_fibonacci(n):\n",
    "    a = 0\n",
    "    b = 1\n",
    "    if n<0:\n",
    "        print(\"please enter positive number\")\n",
    "    elif n ==0:\n",
    "        return a\n",
    "    elif n==1:\n",
    "        return b\n",
    "    else:\n",
    "        for i in range(2,n+1):\n",
    "            c = a+b\n",
    "            a = b\n",
    "            b = c\n",
    "    return b\n",
    "cal_fibonacci(10)        "
   ]
  },
  {
   "cell_type": "markdown",
   "id": "11fab591-13b7-4be6-afc7-ee83f6262c46",
   "metadata": {},
   "source": [
    "## 15. Write a program to find the median of a list of numbers."
   ]
  },
  {
   "cell_type": "code",
   "execution_count": 6,
   "id": "ed99fe43-e9dc-4309-aa11-f34323ff34c0",
   "metadata": {},
   "outputs": [
    {
     "name": "stdout",
     "output_type": "stream",
     "text": [
      "median of sorted array is  50.5\n"
     ]
    }
   ],
   "source": [
    "import numpy as np\n",
    "def find_median(list1):\n",
    "    median = np.median(list1)\n",
    "    return median \n",
    "\n",
    "\n",
    "list1 = [12,89,45,13,56,78]\n",
    "results = find_median(list1)\n",
    "print(\"median of sorted array is \", results)\n"
   ]
  },
  {
   "cell_type": "markdown",
   "id": "bd8026ff-e15a-43a9-96d5-05c0621e8d8f",
   "metadata": {},
   "source": [
    "## 16. Implement a function to check if a given list is sorted in non-decreasing order."
   ]
  },
  {
   "cell_type": "code",
   "execution_count": 12,
   "id": "7ed622c9-3388-400c-8edc-d38a2cd258a5",
   "metadata": {},
   "outputs": [
    {
     "name": "stdout",
     "output_type": "stream",
     "text": [
      "Sorted in ascending order above list is : [12, 13, 45, 56, 78, 89]\n"
     ]
    }
   ],
   "source": [
    "\n",
    "nums = [12,89,45,13,56,78]\n",
    "results  = sorted(nums)\n",
    "print(\"Sorted in ascending order above list is :\", results)\n"
   ]
  },
  {
   "cell_type": "markdown",
   "id": "f14b8d4b-d58f-4056-872d-7313bfdf7a82",
   "metadata": {},
   "source": [
    "## 17. Write a Python program to find the intersection of two lists."
   ]
  },
  {
   "cell_type": "code",
   "execution_count": 11,
   "id": "5b17a303-1a21-4133-9b66-4686cbea8843",
   "metadata": {},
   "outputs": [
    {
     "name": "stdout",
     "output_type": "stream",
     "text": [
      "Intersection between list1 and list2 are : [89, 78]\n"
     ]
    }
   ],
   "source": [
    "\n",
    "def intersection(list1,list2):\n",
    "    return list(set(list1)&set(list2))\n",
    "\n",
    "\n",
    "list1 = [12,89,45,13,56,78]\n",
    "list2 =  [2,89,54,65,78,55]\n",
    "results = intersection(list1,list2)\n",
    "print(\"Intersection between list1 and list2 are :\",results) "
   ]
  },
  {
   "cell_type": "markdown",
   "id": "9083247e-e781-44ff-89c6-27a71216b032",
   "metadata": {},
   "source": [
    "## 18. Implement a function to find the maximum subarray sum in a given list.\n",
    "\n",
    "\n",
    "\n"
   ]
  },
  {
   "cell_type": "code",
   "execution_count": null,
   "id": "bd826e86-fbd7-42d6-ad9c-ed3aad930340",
   "metadata": {},
   "outputs": [],
   "source": [
    "\n",
    "\n",
    "\n",
    "\n",
    "\n"
   ]
  },
  {
   "cell_type": "markdown",
   "id": "b4cd0799-1959-4179-8738-bff9b9060082",
   "metadata": {},
   "source": [
    "## 19. Write a program to remove all vowels from a given string.\n",
    "\n",
    "\n",
    "\n"
   ]
  },
  {
   "cell_type": "code",
   "execution_count": 25,
   "id": "b3480268-736e-47d1-9068-39d46eea84a2",
   "metadata": {},
   "outputs": [
    {
     "name": "stdout",
     "output_type": "stream",
     "text": [
      "vowels removed string is : Wrt  prgrm t rmv ll vwls frm  gvn strng\n"
     ]
    }
   ],
   "source": [
    "def remove_vowels(str):\n",
    "    vowels = 'aieouAIEOU'\n",
    "    result = \"\"\n",
    "    for char in str:\n",
    "        if char not in vowels:\n",
    "            result +=char\n",
    "            \n",
    "    return result        \n",
    "    \n",
    "\n",
    "str = \"Write a program to remove all vowels from a given string\"\n",
    "print(\"vowels removed string is :\" ,remove_vowels(str))"
   ]
  },
  {
   "cell_type": "markdown",
   "id": "24afb872-b0de-43fd-92c2-478caf0ceb78",
   "metadata": {},
   "source": [
    "## 20. Implement a function to reverse the order of words in a given sentence\n",
    "\n",
    "\n",
    "\n"
   ]
  },
  {
   "cell_type": "code",
   "execution_count": 34,
   "id": "8a9d9881-a934-429a-a8fd-673eef3bac8c",
   "metadata": {},
   "outputs": [
    {
     "name": "stdout",
     "output_type": "stream",
     "text": [
      "Reversed sentence: sentence given a in words of order the reverse to function a Implement\n"
     ]
    }
   ],
   "source": [
    "def reverse_sentence(sentence):\n",
    "    words = sentence.split()\n",
    "    reversed_words = words[::-1]\n",
    "    reversed_sentence = ' '.join(reversed_words)\n",
    "    return reversed_sentence\n",
    "\n",
    "# Example usage\n",
    "sentence = \"Implement a function to reverse the order of words in a given sentence\"\n",
    "reversed_sentence = reverse_sentence(sentence)\n",
    "print(\"Reversed sentence:\", reversed_sentence)\n"
   ]
  },
  {
   "cell_type": "markdown",
   "id": "98bd4282-4631-4e4a-90b3-d29f3edb2555",
   "metadata": {},
   "source": [
    "## 21. Write a Python program to check if two strings are anagrams of each other.\n",
    "\n",
    "\n",
    "\n",
    "\n"
   ]
  },
  {
   "cell_type": "code",
   "execution_count": 40,
   "id": "af748f3a-783a-4b3c-ba79-ed354ac5f8eb",
   "metadata": {},
   "outputs": [
    {
     "name": "stdout",
     "output_type": "stream",
     "text": [
      "Yes they are an anagram\n"
     ]
    }
   ],
   "source": [
    "def is_anagram(string1,string2):\n",
    "    sorted_str1 = sorted(string1)\n",
    "    sorted_str2 = sorted(string2)\n",
    "    if len(sorted_str1)==len(sorted_str2):\n",
    "         print(\"Yes they are an anagram\")\n",
    "\n",
    "string1 = \"pradeep singh\".replace(\" \",\"\").lower()\n",
    "string2 = 'singh pradeep'.replace(\" \",\"\").lower()\n",
    "result = is_anagram(string1,string2)"
   ]
  },
  {
   "cell_type": "markdown",
   "id": "0277b5cd-efc4-4ec5-89c2-c695e9c7449b",
   "metadata": {},
   "source": [
    "## 22. Implement a function to find the first non-repeating character in a string.\n",
    "\n",
    "\n",
    "\n"
   ]
  },
  {
   "cell_type": "code",
   "execution_count": null,
   "id": "8eb61398-a2bc-4beb-bf67-6e1888af1770",
   "metadata": {},
   "outputs": [],
   "source": [
    "\n",
    "\n",
    "\n",
    "\n"
   ]
  },
  {
   "cell_type": "markdown",
   "id": "b3c71d00-187b-4fed-b119-c5d9c2236af9",
   "metadata": {},
   "source": [
    "## 23. Write a program to find the prime factors of a given number.\n",
    "\n",
    "\n",
    "\n",
    "\n"
   ]
  },
  {
   "cell_type": "code",
   "execution_count": null,
   "id": "ab0ddb03-a62f-4d0a-826f-eab1fcbaa41c",
   "metadata": {},
   "outputs": [],
   "source": [
    "\n",
    "\n",
    "\n",
    "\n",
    "\n",
    "\n",
    "\n",
    "\n",
    "\n",
    "\n",
    "\n",
    "\n",
    "\n",
    "\n",
    "Prime factors of a number are the prime numbers that divide the given number exactly, without leaving any remainder.\n",
    "To find the prime factors of a given number, you can follow the following approach:\n",
    "\n",
    "Start with the given number n that you want to find the prime factors of.\n",
    "Initialize an empty list to store the prime factors.\n",
    "Iterate from 2 to the square root of n and perform the following steps for each number i:\n",
    "Check if n is divisible by i (i.e., n % i == 0).\n",
    "If it is divisible, then i is a prime factor. Append it to the list of prime factors.\n",
    "Divide n by i repeatedly as long as it is divisible by i.\n",
    "After the loop, if n is greater than 1, it is also a prime factor. Append it to the list.\n",
    "The list will contain all the prime factors of the given number\n",
    "\n",
    "\n",
    "\n"
   ]
  },
  {
   "cell_type": "markdown",
   "id": "2038d5d9-96c4-4ff1-ae9a-e0f15afb4ab0",
   "metadata": {},
   "source": [
    "## 24. Implement a function to check if a given number is a power of two.\n",
    "\n",
    "\n",
    "\n",
    "\n"
   ]
  },
  {
   "cell_type": "code",
   "execution_count": 39,
   "id": "29d92bc4-0330-48d6-aa41-8c0f179f814d",
   "metadata": {},
   "outputs": [
    {
     "name": "stdout",
     "output_type": "stream",
     "text": [
      "15 is not a power of two.\n"
     ]
    }
   ],
   "source": [
    "def is_power_of_two(number):\n",
    "    if number <= 0:\n",
    "        return False\n",
    "    elif number == 1:\n",
    "        return True\n",
    "    else:\n",
    "        return (number & (number - 1)) == 0\n",
    "\n",
    "# Example usage\n",
    "num = 15\n",
    "\n",
    "if is_power_of_two(num):\n",
    "    print(num, \"is a power of two.\")\n",
    "else:\n",
    "    print(num, \"is not a power of two.\")\n"
   ]
  },
  {
   "cell_type": "markdown",
   "id": "604ce7a9-55fa-4fd8-9631-632ae9f86d53",
   "metadata": {},
   "source": [
    "## 25. Write a Python program to merge two sorted lists into a single sorted list."
   ]
  },
  {
   "cell_type": "code",
   "execution_count": 47,
   "id": "299075af-8f7d-4ad6-9dd2-53a51ccb3b4f",
   "metadata": {},
   "outputs": [
    {
     "data": {
      "text/plain": [
       "[12, 13, 45, 56, 78, 89, 2, 54, 55, 65, 78, 89]"
      ]
     },
     "execution_count": 47,
     "metadata": {},
     "output_type": "execute_result"
    }
   ],
   "source": [
    "\n",
    "list1 = [12,89,45,13,56,78]\n",
    "list2 =  [2,89,54,65,78,55]\n",
    "sorted_list1 = sorted(list1)\n",
    "sorted_list2 = sorted(list2)\n",
    "single_sorted_list = sorted_list1+sorted_list2\n",
    "single_sorted_list"
   ]
  },
  {
   "cell_type": "code",
   "execution_count": 54,
   "id": "a21fcd3b-16a7-4435-8aef-837463da3c6c",
   "metadata": {},
   "outputs": [
    {
     "name": "stdout",
     "output_type": "stream",
     "text": [
      "Sorted merge list is : [12, 13, 45, 56, 78, 89, 2, 54, 55, 65, 78, 89]\n"
     ]
    }
   ],
   "source": [
    "list1 = [12,89,45,13,56,78]\n",
    "list2 =  [2,89,54,65,78,55]\n",
    "sorted_list1 = sorted(list1)\n",
    "sorted_list2 = sorted(list2)\n",
    "sorted_list1.extend(sorted_list2)\n",
    "print(\"Sorted merge list is :\",sorted_list1)"
   ]
  },
  {
   "cell_type": "markdown",
   "id": "1eb96b4c-cd50-4e20-8f58-138ff2b2477d",
   "metadata": {},
   "source": [
    "## 26. Implement a function to find the mode of a list of numbers.\n",
    "\n",
    "\n",
    "\n"
   ]
  },
  {
   "cell_type": "code",
   "execution_count": 53,
   "id": "cc42fd82-9557-462c-9d15-6d4f0c11d3d0",
   "metadata": {},
   "outputs": [
    {
     "name": "stdout",
     "output_type": "stream",
     "text": [
      "mode of a given list is : [4]\n"
     ]
    }
   ],
   "source": [
    "\n",
    "import statistics\n",
    "def find_mode(numbers):\n",
    "    modes = statistics.multimode(numbers)\n",
    "    return modes\n",
    "    \n",
    "        \n",
    "        \n",
    "numbers = [1,4,5,5,4,6,6,2,4,3]\n",
    "result = find_mode(numbers)\n",
    "print(\"mode of a given list is :\",result)"
   ]
  },
  {
   "cell_type": "markdown",
   "id": "f4690586-1093-4b74-a9dc-372058d3a4ea",
   "metadata": {},
   "source": [
    "## 27. Write a program to find the greatest common divisor (GCD) of two numbers.\n",
    "\n",
    "\n",
    "\n"
   ]
  },
  {
   "cell_type": "code",
   "execution_count": 57,
   "id": "d4038943-4105-4b34-badd-f333adbb3bdf",
   "metadata": {},
   "outputs": [
    {
     "name": "stdout",
     "output_type": "stream",
     "text": [
      "The greatest common divisor (GCD) of two numbers 15\n"
     ]
    }
   ],
   "source": [
    "import math\n",
    "num1 = 15\n",
    "num2 = 105\n",
    "gcd = math.gcd(num1,num2)\n",
    "\n",
    "print(\"The greatest common divisor (GCD) of two numbers\", gcd)"
   ]
  },
  {
   "cell_type": "code",
   "execution_count": 59,
   "id": "6187238a-f86d-44f5-be5c-ecd755fde8e9",
   "metadata": {},
   "outputs": [
    {
     "name": "stdout",
     "output_type": "stream",
     "text": [
      "12\n"
     ]
    }
   ],
   "source": [
    "def gcd(a, b):\n",
    "    while b != 0:\n",
    "        a, b = b, a % b\n",
    "    return a\n",
    "\n",
    "a = 48\n",
    "b = 180\n",
    "\n",
    "gcd_value = gcd(a, b)\n",
    "print(gcd_value)\n"
   ]
  },
  {
   "cell_type": "markdown",
   "id": "30aeb2c3-4baa-4fb0-9cbd-2b77d54fc157",
   "metadata": {},
   "source": [
    "## 28. Implement a function to calculate the square root of a given number."
   ]
  },
  {
   "cell_type": "code",
   "execution_count": 59,
   "id": "fd4fa1c4-78d6-4f92-ab5e-6d88e685c821",
   "metadata": {},
   "outputs": [
    {
     "name": "stdout",
     "output_type": "stream",
     "text": [
      "square root of a given number is : 5.196152422706632\n"
     ]
    }
   ],
   "source": [
    "def cal_square_root(x):\n",
    "    return x**0.5\n",
    "\n",
    "x = 27\n",
    "results = cal_square_root(x)\n",
    "print(\"square root of a given number is :\",results)"
   ]
  },
  {
   "cell_type": "code",
   "execution_count": 61,
   "id": "09e638f0-7074-4e17-9edb-2a8ed3cecca2",
   "metadata": {},
   "outputs": [
    {
     "name": "stdin",
     "output_type": "stream",
     "text": [
      "enter a number ? 27\n"
     ]
    },
    {
     "data": {
      "text/plain": [
       "5.196152422706632"
      ]
     },
     "execution_count": 61,
     "metadata": {},
     "output_type": "execute_result"
    }
   ],
   "source": [
    "num = int(input(\"enter a number ?\"))\n",
    "num**0.5"
   ]
  },
  {
   "cell_type": "code",
   "execution_count": null,
   "id": "e20668b3-d746-47a9-8eae-9a4754894b3a",
   "metadata": {},
   "outputs": [],
   "source": [
    "29. Write a Python program to check if a given string is a valid palindrome ignoring non-alphanumeric characters."
   ]
  },
  {
   "cell_type": "code",
   "execution_count": 62,
   "id": "2704e137-3172-440f-8dc6-20cef997df4d",
   "metadata": {},
   "outputs": [
    {
     "name": "stdout",
     "output_type": "stream",
     "text": [
      "The minimum element in a rotated sorted list is : 1\n"
     ]
    }
   ],
   "source": [
    "# 30. Implement a function to find the minimum element in a rotated sorted list.\n",
    "def find_min_element(list):\n",
    "    minmun_number = min(list)\n",
    "    return minmun_number\n",
    "\n",
    "list  = [4, 5, 6, 7, 1, 2, 3]\n",
    "results = find_min_element(list)\n",
    "print(\"The minimum element in a rotated sorted list is :\" ,results)"
   ]
  },
  {
   "cell_type": "code",
   "execution_count": 63,
   "id": "be13082d-9bb6-4541-a20b-2689dd9178ee",
   "metadata": {},
   "outputs": [
    {
     "data": {
      "text/plain": [
       "1"
      ]
     },
     "execution_count": 63,
     "metadata": {},
     "output_type": "execute_result"
    }
   ],
   "source": [
    "list  = [4, 5, 6, 7, 1, 2, 3]\n",
    "min(list)"
   ]
  },
  {
   "cell_type": "markdown",
   "id": "b5e08f1a-346d-4d70-8b60-8babeef7b876",
   "metadata": {},
   "source": [
    "## 31. Write a program to find the sum of all even numbers in a list."
   ]
  },
  {
   "cell_type": "code",
   "execution_count": null,
   "id": "32a9f8ec-bb33-4328-8d55-e19721dbbc29",
   "metadata": {},
   "outputs": [],
   "source": [
    "\n",
    "def sum_all_even_nums(numbers):\n",
    "    sum_even = 0\n",
    "    for num in numbers:\n",
    "        if num%2==0:\n",
    "            sum_even += num\n",
    "    return sum_even      \n",
    "numbers = [12,89,45,13,56,78]\n",
    "result = sum_all_even_nums(numbers)\n",
    "print(\"The the sum of all even numbers in a list is :\" ,result)"
   ]
  },
  {
   "cell_type": "markdown",
   "id": "204342de-5b90-4b9a-9bab-61318a830a60",
   "metadata": {},
   "source": [
    "## 32. Implement a function to calculate the power of a number using recursion.\n",
    "\n",
    "\n",
    "\n",
    "\n"
   ]
  },
  {
   "cell_type": "code",
   "execution_count": 60,
   "id": "7ebdcdc6-fa5d-48c7-aa20-a58cf14c8040",
   "metadata": {},
   "outputs": [
    {
     "name": "stdout",
     "output_type": "stream",
     "text": [
      "The power of a given number is :  1024\n"
     ]
    }
   ],
   "source": [
    "def power(base,exponent):\n",
    "    if exponent ==0:\n",
    "        return 1\n",
    "    else:\n",
    "        return base * power(base, exponent - 1)\n",
    "\n",
    "base  = 2\n",
    "exponent = 10\n",
    "result = power(base,exponent)\n",
    "print(\"The power of a given number is : \" , result)"
   ]
  },
  {
   "cell_type": "markdown",
   "id": "9ffb18e9-08b5-4607-937a-faab4cbb7a41",
   "metadata": {},
   "source": [
    "## 33. Write a Python program to remove duplicates from a list while preserving the order.\n",
    "\n",
    "\n",
    "\n",
    "\n"
   ]
  },
  {
   "cell_type": "code",
   "execution_count": null,
   "id": "623ba826-f5ae-443c-967f-43b549651e76",
   "metadata": {},
   "outputs": [],
   "source": [
    "\n",
    "\n",
    "\n"
   ]
  },
  {
   "cell_type": "markdown",
   "id": "54dd2ee9-52bc-4b54-b56a-f9d9a7d273d7",
   "metadata": {},
   "source": [
    "## 34. Implement a function to find the longest common prefix among a list of strings.\n",
    "\n",
    "\n",
    "\n",
    "\n"
   ]
  },
  {
   "cell_type": "code",
   "execution_count": null,
   "id": "e50fc2bb-38a8-468c-99fc-6c7567aece2c",
   "metadata": {},
   "outputs": [],
   "source": [
    "\n",
    "\n",
    "\n",
    "\n"
   ]
  },
  {
   "cell_type": "markdown",
   "id": "7684c36f-cfad-492a-9856-94e3850c4914",
   "metadata": {},
   "source": [
    "## 35. Write a program to check if a given number is a perfect square."
   ]
  },
  {
   "cell_type": "code",
   "execution_count": null,
   "id": "589775da-ca76-4d70-8076-df474385a7a3",
   "metadata": {},
   "outputs": [],
   "source": [
    "\n",
    "n = 2500\n",
    "for i in range(n+1):\n",
    "    if i**2==n:\n",
    "        print(\"yes\")\n",
    "        break\n",
    "else:\n",
    "    print(\"No\")\n"
   ]
  },
  {
   "cell_type": "markdown",
   "id": "c496fc08-dcd1-4ef3-bfe8-f785fa11acc5",
   "metadata": {},
   "source": [
    "## 36. Implement a function to calculate the product of all elements in a list."
   ]
  },
  {
   "cell_type": "code",
   "execution_count": 16,
   "id": "5965bbcf-d289-442d-9f16-05fd9d8103c0",
   "metadata": {},
   "outputs": [
    {
     "name": "stdout",
     "output_type": "stream",
     "text": [
      "sum of digits of a given number is : 270\n"
     ]
    }
   ],
   "source": [
    "def find_sum_digits(number):\n",
    "    str_num = str(number)\n",
    "    sum_digits = 1\n",
    "    for digit_char in str_num:\n",
    "        digit = int(digit_char)\n",
    "        sum_digits *=digit\n",
    "    return sum_digits\n",
    "    \n",
    "    \n",
    "number = 956\n",
    "result = find_sum_digits(number)\n",
    "print(\"sum of digits of a given number is :\", result)"
   ]
  },
  {
   "cell_type": "markdown",
   "id": "bcfc8cb2-4e80-4567-a26b-1edefd823861",
   "metadata": {},
   "source": [
    "## 37. Write a Python program to reverse the order of words in a sentence while preserving the word order.\n",
    "\n",
    "\n",
    "\n",
    "\n",
    "\n"
   ]
  },
  {
   "cell_type": "code",
   "execution_count": null,
   "id": "7a84e73e-e115-48a7-8be2-9a4f5954f171",
   "metadata": {},
   "outputs": [],
   "source": [
    "\n",
    "\n",
    "\n",
    "\n",
    "\n",
    "\n",
    "\n",
    "\n"
   ]
  },
  {
   "cell_type": "markdown",
   "id": "c94f3019-a075-42b0-b4c0-bbec29ba0844",
   "metadata": {},
   "source": [
    "## 38. Implement a function to find the missing number in a given list of consecutive numbers\n",
    "\n",
    "\n",
    "\n"
   ]
  },
  {
   "cell_type": "code",
   "execution_count": null,
   "id": "d2a0c529-8a29-4513-89cd-91e4f355b98b",
   "metadata": {},
   "outputs": [],
   "source": [
    "\n",
    "\n",
    "\n",
    "\n",
    "\n",
    "\n"
   ]
  },
  {
   "cell_type": "markdown",
   "id": "28691e3b-f58d-47e4-8e42-673aab607768",
   "metadata": {},
   "source": [
    "## 39. Write a program to find the sum of digits of a given number."
   ]
  },
  {
   "cell_type": "code",
   "execution_count": 14,
   "id": "818536c5-3d32-4234-8a64-a0ab52b7ecd3",
   "metadata": {},
   "outputs": [
    {
     "name": "stdout",
     "output_type": "stream",
     "text": [
      "sum of digits of a given number is : 20\n"
     ]
    }
   ],
   "source": [
    "\n",
    "def find_sum_digits(number):\n",
    "    str_num = str(number)\n",
    "    sum_digits = 0\n",
    "    for digit_char in str_num:\n",
    "        digit = int(digit_char)\n",
    "        sum_digits +=digit\n",
    "    return sum_digits\n",
    "    \n",
    "    \n",
    "number = 956\n",
    "result = find_sum_digits(number)\n",
    "print(\"sum of digits of a given number is :\", result)"
   ]
  },
  {
   "cell_type": "code",
   "execution_count": null,
   "id": "8768e33d-b0d2-4be2-a894-c157da8046d8",
   "metadata": {},
   "outputs": [],
   "source": []
  },
  {
   "cell_type": "markdown",
   "id": "d41e6c27-64df-461b-9880-5ffe43bd6672",
   "metadata": {},
   "source": [
    "## 40. Implement a function to check if a given string is a valid palindrome considering case sensitivity.\n",
    "\n",
    "\n",
    "\n",
    "\n"
   ]
  },
  {
   "cell_type": "code",
   "execution_count": null,
   "id": "221ce915-193d-4fdc-ac21-4d16e3c0ba35",
   "metadata": {},
   "outputs": [],
   "source": [
    "\n",
    "\n",
    "\n"
   ]
  },
  {
   "cell_type": "markdown",
   "id": "10920410-a3c1-4f65-93c8-aca0aeb1bcbd",
   "metadata": {},
   "source": [
    "## 41. Write a Python program to find the smallest missing positive integer in a list.\n",
    "\n",
    "\n",
    "\n"
   ]
  },
  {
   "cell_type": "code",
   "execution_count": null,
   "id": "073087b3-9491-4ecc-9048-edf2621f34f2",
   "metadata": {},
   "outputs": [],
   "source": [
    "\n",
    "\n",
    "\n",
    "\n"
   ]
  },
  {
   "cell_type": "markdown",
   "id": "45473541-741f-4ec1-80cd-9ac0f6a571d7",
   "metadata": {},
   "source": [
    "## 42. Implement a function to find the longest palindrome substring in a given string\n",
    "\n",
    "\n"
   ]
  },
  {
   "cell_type": "code",
   "execution_count": null,
   "id": "31e98141-93bd-460f-83c8-16bbdcc6d163",
   "metadata": {},
   "outputs": [],
   "source": [
    "\n",
    "\n",
    "\n",
    "\n"
   ]
  },
  {
   "cell_type": "markdown",
   "id": "358dd090-1b87-4306-a01d-00f149013a05",
   "metadata": {},
   "source": [
    "## 43. Write a program to find the number of occurrences of a given element in a list"
   ]
  },
  {
   "cell_type": "code",
   "execution_count": 59,
   "id": "3448ad6e-c31a-44aa-9828-b383e69ed282",
   "metadata": {},
   "outputs": [
    {
     "data": {
      "text/plain": [
       "4"
      ]
     },
     "execution_count": 59,
     "metadata": {},
     "output_type": "execute_result"
    }
   ],
   "source": [
    "mylist = [2,3,2,3,4,2,3,2,3,5,6]\n",
    "mylist.count(2)"
   ]
  },
  {
   "cell_type": "code",
   "execution_count": 58,
   "id": "6e2553da-568c-4a0e-aef5-c0755252fff7",
   "metadata": {},
   "outputs": [
    {
     "data": {
      "text/plain": [
       "4"
      ]
     },
     "execution_count": 58,
     "metadata": {},
     "output_type": "execute_result"
    }
   ],
   "source": [
    "mylist.count(3)"
   ]
  },
  {
   "cell_type": "markdown",
   "id": "4774bb53-240e-449c-9688-59dd0a8038dd",
   "metadata": {},
   "source": [
    "## 44. Implement a function to check if a given number is a perfect number."
   ]
  },
  {
   "cell_type": "code",
   "execution_count": 32,
   "id": "b9424694-7e89-4405-8f62-74f413848831",
   "metadata": {},
   "outputs": [
    {
     "name": "stdout",
     "output_type": "stream",
     "text": [
      "Given number is perfect number : True\n"
     ]
    }
   ],
   "source": [
    "def isperfectnumber(number):\n",
    "    sum_divisors = 0\n",
    "    for i in range(1,number//2+1):\n",
    "        if number%i==0:\n",
    "            sum_divisors+=i\n",
    "            \n",
    "    return sum_divisors==number        \n",
    "    \n",
    "number = 6\n",
    "result = isperfectnumber(number)\n",
    "print(\"Given number is perfect number :\" ,result)"
   ]
  },
  {
   "cell_type": "markdown",
   "id": "99a50b4d-e467-4370-ab7f-da629764a7e0",
   "metadata": {},
   "source": [
    "## 45. Write a Python program to remove all duplicates from a string."
   ]
  },
  {
   "cell_type": "code",
   "execution_count": 53,
   "id": "638b57f6-f609-4d38-b108-c4e356a43799",
   "metadata": {},
   "outputs": [
    {
     "name": "stdout",
     "output_type": "stream",
     "text": [
      "unique characters are in the my string: helo pradsingjut\n"
     ]
    }
   ],
   "source": [
    "\n",
    "\n",
    "#my_str = \"pradeep pradeep singh singh\"\n",
    "def remove_duplicate(my_str):\n",
    "    unique_str = []\n",
    "    for char in my_str:\n",
    "        if char not in unique_str:\n",
    "            unique_str.append(char)\n",
    "            \n",
    "    return  ''.join(unique_str)  \n",
    "my_str = \"hello pradeep singh rajput\"\n",
    "result = remove_duplicate(my_str)\n",
    "print(\"unique characters are in the my string:\", result)\n"
   ]
  },
  {
   "cell_type": "code",
   "execution_count": 45,
   "id": "01bbe664-2416-4655-bb8d-83033341a0c0",
   "metadata": {},
   "outputs": [
    {
     "name": "stdout",
     "output_type": "stream",
     "text": [
      "String with duplicates removed: Helo, Wrd!\n"
     ]
    }
   ],
   "source": [
    "def remove_duplicates(string):\n",
    "    unique_chars = []\n",
    "    for char in string:\n",
    "        if char not in unique_chars:\n",
    "            unique_chars.append(char)\n",
    "    return ''.join(unique_chars)\n",
    "\n",
    "# Example usage\n",
    "input_string = \"Hello, World!\"\n",
    "result = remove_duplicates(input_string)\n",
    "print(\"String with duplicates removed:\", result)\n"
   ]
  },
  {
   "cell_type": "code",
   "execution_count": null,
   "id": "561baa97-a0ec-44cc-af64-d0aefc7bd8e1",
   "metadata": {},
   "outputs": [],
   "source": []
  }
 ],
 "metadata": {
  "kernelspec": {
   "display_name": "Python 3 (ipykernel)",
   "language": "python",
   "name": "python3"
  },
  "language_info": {
   "codemirror_mode": {
    "name": "ipython",
    "version": 3
   },
   "file_extension": ".py",
   "mimetype": "text/x-python",
   "name": "python",
   "nbconvert_exporter": "python",
   "pygments_lexer": "ipython3",
   "version": "3.10.8"
  }
 },
 "nbformat": 4,
 "nbformat_minor": 5
}
